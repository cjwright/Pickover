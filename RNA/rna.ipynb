{
 "cells": [
  {
   "cell_type": "code",
   "execution_count": null,
   "id": "e303a651-df69-4c1d-8908-116693a354d5",
   "metadata": {
    "scrolled": true
   },
   "outputs": [],
   "source": [
    "import matplotlib.pyplot as plt\n",
    "from random import randrange\n",
    "\n",
    "# Declare number of bases \n",
    "#\n",
    "bases = 80 \n",
    "\n",
    "# Function to initialize sequence with random bases \n",
    "# \n",
    "\n",
    "def init_sequence(a):\n",
    "    \n",
    "    # Initialize sequence to random bases\n",
    "    #\n",
    "    a = [randrange(4) for i in range(bases)]\n",
    "    for num in range(bases):\n",
    "        if  a[num]== 0:\n",
    "            a[num]=\"G\"\n",
    "        if  a[num]== 1:\n",
    "            a[num]=\"C\"\n",
    "        if  a[num]== 2:\n",
    "            a[num]=\"A\"\n",
    "        if  a[num]== 3:\n",
    "            a[num]=\"U\"             \n",
    "    print(a)\n",
    "    return(a)\n",
    "\n",
    "# Initialize sequence \n",
    "#\n",
    "\n",
    "sequence=init_sequence(bases)\n",
    "\n",
    "# Display initial sequence \n",
    "#\n",
    "\n",
    "def display_sequence():\n",
    "    x=0\n",
    "        \n",
    "    for num in range(bases):\n",
    "          if  sequence[num]== \"G\":\n",
    "              plt.plot(x, 1, 'r.')\n",
    "          if  sequence[num]== \"C\":\n",
    "              plt.plot(x, 1, 'g.')\n",
    "          if  sequence[num]== \"A\":\n",
    "               plt.plot(x, 1, 'b.')\n",
    "          if  sequence[num]== \"U\":\n",
    "               plt.plot(x, 1, 'y.')\n",
    "        \n",
    "          x=x+6\n",
    "          plt.axis((0, bases*6, 0, 4))\n",
    "    plt.show()\n",
    "\n",
    "\n",
    "display_sequence()\n"
   ]
  },
  {
   "cell_type": "code",
   "execution_count": 23,
   "id": "d8bbca10-55af-4afd-8381-24a3fe17e670",
   "metadata": {},
   "outputs": [
    {
     "name": "stdout",
     "output_type": "stream",
     "text": [
      "['G', 'C', 'U', 'U', 'G', 'G', 'C', 'G', 'G', 'U', 'A', 'C', 'G', 'A', 'G', 'U', 'A', 'G', 'A', 'C', 'U', 'G', 'A', 'U', 'C', 'C', 'U', 'U', 'C', 'U', 'A', 'C', 'C', 'G', 'A', 'U', 'G', 'G', 'A', 'U', 'C', 'A', 'C', 'U', 'G', 'U', 'C', 'C', 'U', 'U', 'A', 'A', 'U', 'U', 'G', 'C', 'G', 'A', 'U', 'U', 'C', 'C', 'U', 'U', 'C', 'U', 'A', 'U', 'A', 'A', 'A', 'C', 'C', 'U', 'U', 'U', 'G', 'G', 'A', 'G']\n"
     ]
    }
   ],
   "source": [
    "a = [randrange(4) for i in range(80)]\n",
    "\n",
    "for num in range(80):\n",
    "    if  a[num]== 0:\n",
    "        a[num]=\"G\"\n",
    "    if  a[num]== 1:\n",
    "        a[num]=\"C\"\n",
    "    if  a[num]== 2:\n",
    "        a[num]=\"A\"\n",
    "    if  a[num]== 3:\n",
    "        a[num]=\"U\"\n",
    "        \n",
    "print(a)"
   ]
  },
  {
   "cell_type": "code",
   "execution_count": null,
   "id": "a0ed40c4-9f5a-4d62-99e9-0fac4c1e3892",
   "metadata": {},
   "outputs": [],
   "source": []
  }
 ],
 "metadata": {
  "kernelspec": {
   "display_name": "Python 3 (ipykernel)",
   "language": "python",
   "name": "python3"
  },
  "language_info": {
   "codemirror_mode": {
    "name": "ipython",
    "version": 3
   },
   "file_extension": ".py",
   "mimetype": "text/x-python",
   "name": "python",
   "nbconvert_exporter": "python",
   "pygments_lexer": "ipython3",
   "version": "3.13.7"
  }
 },
 "nbformat": 4,
 "nbformat_minor": 5
}
